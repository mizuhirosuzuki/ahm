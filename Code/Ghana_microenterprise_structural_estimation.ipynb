{
 "cells": [
  {
   "cell_type": "markdown",
   "metadata": {},
   "source": [
    "# Structural Estimation of microenterprises in Ghana"
   ]
  },
  {
   "cell_type": "markdown",
   "metadata": {},
   "source": [
    "In this document, I will explain how to do structural estimation of microenterprises in Ghana."
   ]
  },
  {
   "cell_type": "markdown",
   "metadata": {},
   "source": [
    "## Background"
   ]
  },
  {
   "cell_type": "markdown",
   "metadata": {},
   "source": [
    "[Fafchamps et al. (2014)](https://www.sciencedirect.com/science/article/pii/S0304387813001375) study the effect of cash and in-kind grants on microenterprise growth in urban Ghana.\n",
    "I construct a model of microenterprise owners, who make production and consumption decisions, and estimate structural parameters."
   ]
  },
  {
   "cell_type": "markdown",
   "metadata": {},
   "source": [
    "## Data"
   ]
  },
  {
   "cell_type": "markdown",
   "metadata": {},
   "source": [
    "Microdata used in Fafchamps et al. (2014) can be downloaded [here](https://microdata.worldbank.org/index.php/catalog/2249/get-microdata).\n",
    "\n",
    "### Sample periods\n",
    "\n",
    "The baseline survey was conducted in October and November, 2008.\n",
    "The two pre-treatment survey rounds were followed up by four additional quarterly survey waves in May 2009, August 2009, November 2009, and February 2010.\n",
    "793 firms completed first two rounds, and 730 of them answered the final wave.\n",
    "\n",
    "### Key observables\n",
    "\n",
    "- capital value\n",
    "    - land and market space\n",
    "    - machines, equipment, and furniture\n",
    "    - kiosk, shed, building (including vehicles)\n",
    "    - other assets\n",
    "- inventories\n",
    "    - products for sales\n",
    "    - raw materials\n",
    "    - products in production\n",
    "    - spare parts\n",
    "- cash for business (including cash held at home, at the bank, or with a susu)\n",
    "- susu deposit per day\n",
    "- time preference\n",
    "- total monthly sales\n",
    "- total expenditures for the last month\n",
    "    - raw materials and items for resale\n",
    "    - electricity, water, gas, and fuel\n",
    "    - wages for employees and apprentices\n",
    "    - telephone and cellphone airtime\n",
    "    - maintenance, repair, and transportation\n",
    "    - rent of machinery and equipment\n",
    "    - interest paid on loans\n",
    "    - gifts, tips, and bribes given to government officials\n",
    "- total expenditures for the last twelve months\n",
    "    - rent for land and buildings for business\n",
    "    - market fees\n",
    "    - tax on business income\n",
    "- consumption from the business\n",
    "- household consumption\n",
    "- other incomes\n",
    "    - rental land or rooms\n",
    "    - wages or salary\n",
    "    - inherit\n",
    "- present bias\n",
    "- (noisy measure of) labor input"
   ]
  },
  {
   "cell_type": "markdown",
   "metadata": {},
   "source": [
    "### Data exploration"
   ]
  },
  {
   "cell_type": "code",
   "execution_count": 2,
   "metadata": {},
   "outputs": [],
   "source": [
    "# Pkg.add(\"ReadStat\");\n",
    "using ReadStat"
   ]
  },
  {
   "cell_type": "code",
   "execution_count": null,
   "metadata": {},
   "outputs": [],
   "source": []
  },
  {
   "cell_type": "markdown",
   "metadata": {},
   "source": [
    "## Model"
   ]
  },
  {
   "cell_type": "markdown",
   "metadata": {},
   "source": [
    "I consider a model of a microenterprise owner who makes production and consumption decisions.\n",
    "The owner solves the following maximization problem by deciding (i) consumption and (ii) production input:"
   ]
  },
  {
   "cell_type": "markdown",
   "metadata": {},
   "source": [
    "\\begin{align*}\n",
    "\\max_{\\{C_t > 0, M_t > 0\\}_{t=0}^{\\infty}} \\quad U(W_t) &= \\sum_{t=0}^{\\infty} E_0 \\left[\\frac{C_t^{1 - \\rho}}{1 - \\rho} \\right] \\\\\n",
    "s.t. \\quad C_t + M_t &= W_t \\quad \\text{(budget constraint)} \\\\\n",
    "     \\quad Y_{t+1} &= M_t^{\\beta_m} \\varepsilon_{t+1} \\quad \\text{(production function)} \\\\\n",
    "     \\quad W_{t+1} &= Y_{t+1} + Z_{t+1} \\quad \\text{(wealth transition)}\n",
    "\\end{align*}\n",
    "\n",
    "where\n",
    "- $C_t$: Consumption, $M_t$: Production inputs, $W_t$: Wealth\n",
    "- $Y_t$: Business revenue, $Z_t \\sim \\log N(\\mu_Z, \\sigma_Z^2)$: Other income\n",
    "- $\\varepsilon_t \\sim \\log N(\\mu_{\\varepsilon}, \\sigma_{\\varepsilon}^2)$: Productivity shocks."
   ]
  },
  {
   "cell_type": "code",
   "execution_count": null,
   "metadata": {},
   "outputs": [],
   "source": []
  }
 ],
 "metadata": {
  "kernelspec": {
   "display_name": "Julia 1.1.0",
   "language": "julia",
   "name": "julia-1.1"
  },
  "language_info": {
   "file_extension": ".jl",
   "mimetype": "application/julia",
   "name": "julia",
   "version": "1.1.0"
  },
  "toc": {
   "base_numbering": 1,
   "nav_menu": {},
   "number_sections": true,
   "sideBar": true,
   "skip_h1_title": false,
   "title_cell": "Table of Contents",
   "title_sidebar": "Contents",
   "toc_cell": false,
   "toc_position": {},
   "toc_section_display": true,
   "toc_window_display": false
  }
 },
 "nbformat": 4,
 "nbformat_minor": 2
}
