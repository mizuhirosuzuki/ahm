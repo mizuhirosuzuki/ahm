{
 "cells": [
  {
   "cell_type": "markdown",
   "metadata": {},
   "source": [
    "# Structural Estimation of Agricultural Household Model (Monte Carlo Simulation)"
   ]
  },
  {
   "cell_type": "markdown",
   "metadata": {},
   "source": [
    "In this document, I will conduct a Monte Carlo Simulation of Agricultural Household Model."
   ]
  },
  {
   "cell_type": "markdown",
   "metadata": {},
   "source": [
    "## Model"
   ]
  },
  {
   "cell_type": "markdown",
   "metadata": {},
   "source": [
    "I consider a model in which a farmer maximizes lifetime expected utility by making decisions in agricultural production and household (ie. consumption).\n",
    "More specifically, the farmer solves the following maximization problem by deciding (i) consumption, (ii) production input, and (iii) saving:"
   ]
  },
  {
   "cell_type": "markdown",
   "metadata": {},
   "source": [
    "\\begin{align*}\n",
    "\\max_{\\{C_t > 0, M_t > 0, S_t \\ge 0\\}_{t=0}^{\\infty}} \\quad U(W_t) &= \\sum_{t=0}^{\\infty} E_0 \\left[\\frac{C_t^{1 - \\rho}}{1 - \\rho} \\right] \\\\\n",
    "s.t. \\quad C_t + M_t + S_t &= W_t \\quad \\text{(budget constraint)} \\\\\n",
    "     \\quad Y_{t+1} &= M_t^{\\beta_m} \\varepsilon_{t+1} \\quad \\text{(production function)} \\\\\n",
    "     \\quad W_{t+1} &= Y_{t+1} + Z_{t+1} + (1 + r) S_t \\quad \\text{(wealth transition)}\n",
    "\\end{align*}\n"
   ]
  },
  {
   "cell_type": "markdown",
   "metadata": {},
   "source": [
    "where\n",
    "- $C_t$: Consumption, $S_t$: saving, $M_t$: Production inputs, $W_t$: Wealth\n",
    "- $Y_t$: Business revenue, $Z_t \\sim \\log N(\\mu_Z, \\sigma_Z^2)$: Other income\n",
    "- $\\varepsilon_t \\sim \\log N(\\mu_{\\varepsilon}, \\sigma_{\\varepsilon}^2)$: Productivity shocks."
   ]
  },
  {
   "cell_type": "markdown",
   "metadata": {},
   "source": [
    "The Bellman equation is"
   ]
  },
  {
   "cell_type": "markdown",
   "metadata": {},
   "source": [
    "\\begin{align*}\n",
    "V(W) &= \\max_{C > 0, M > 0, S \\ge 0} \\frac{C^{1 - \\rho}}{1 - \\rho} + \\beta E[V(W')] \\\\\n",
    "s.t. \\quad C + M + S &= W \\quad \\text{(budget constraint)} \\\\\n",
    "     \\quad Y' &= M^{\\beta_m} \\varepsilon' \\quad \\text{(production function)} \\\\\n",
    "     \\quad W' &= Y' + Z' + (1 + r) S \\quad \\text{(wealth transition)}\n",
    "\\end{align*}"
   ]
  },
  {
   "cell_type": "markdown",
   "metadata": {},
   "source": [
    "The first order conditions are\n",
    "\n",
    "\\begin{align*}\n",
    "C^{-\\rho} &= \\beta \\beta^m M^{\\beta_m - 1} E[\\varepsilon' V' (M^{\\beta_m} \\varepsilon' + Z' + (1 + r) S)], \\\\\n",
    "C^{-\\rho} &= \\beta (1 + r) E[V' (M^{\\beta_m} \\varepsilon' + Z' + (1 + r) S)] + \\phi, \\\\\n",
    "\\phi S &= 0,\n",
    "\\end{align*}\n",
    "\n",
    "where $\\phi$ is the Lagrangean multiplier on $S \\ge 0$, and the envelope condition is\n",
    "\\begin{equation*}\n",
    "V'(W) = (W - S - M)^{-\\rho}.\n",
    "\\end{equation*}"
   ]
  },
  {
   "cell_type": "markdown",
   "metadata": {},
   "source": [
    "Note that there is an uncertainty in production but there is no insurance for that risk.\n",
    "Hence, separability does not hold and the household preference (in this case, risk preference, $\\rho$) affects production decision making (in this case, production input, $M$).\n",
    "Also, notice that it is assumed that there is a liquidity constraint and the household cannot borrow money.\n",
    "A reason indeed is that without a liquidity constraint, I found that there is almost no variation in business inputs across wealth levels.\n",
    "My guess is that, while the first order conditions tell that $M$ can be different from the profit-maximizing level due to correlation between $\\varepsilon'$ and $V'(W')$, $V'(W')$ is almost linear in my parameter setting. "
   ]
  },
  {
   "cell_type": "markdown",
   "metadata": {},
   "source": [
    "## Observables"
   ]
  },
  {
   "cell_type": "markdown",
   "metadata": {},
   "source": [
    "I assume that the following variables are included in the dataset at hand:\n",
    "\n",
    "- Consumption, $C_t$;\n",
    "- Business input, $M_t$;\n",
    "- Business revenue, $Y_t$;\n",
    "- Wealth, $W_t$;\n",
    "- Interest income $(1 + r) S$.\n",
    "\n",
    "Notice that saving $S$ is not directly observed."
   ]
  },
  {
   "cell_type": "markdown",
   "metadata": {},
   "source": [
    "## Estimation procedure"
   ]
  },
  {
   "cell_type": "markdown",
   "metadata": {},
   "source": [
    "Parameters to be estimated are $\\theta = (\\rho, \\beta, \\beta_m, \\mu_{\\varepsilon}, \\sigma_{\\varepsilon}, \\mu_Z, \\sigma_Z, r)$.\n",
    "Let $\\theta_1 = (\\rho, \\beta)$ and $\\theta_2 = (\\beta_m, \\mu_{\\varepsilon}, \\sigma_{\\varepsilon}, \\mu_Z, \\sigma_Z, r)$\n",
    "\n",
    "I first estimate a subset of parameters, $\\theta_2$, with reduced form analyses:\n",
    "\n",
    "- $(\\beta_m, \\mu_{\\varepsilon}, \\sigma_{\\varepsilon})$: I regress $\\log(Y_{t+1})$ on $\\log(M_t)$ with a constant, and the coefficient of $\\log(M_t)$ is $\\widehat{\\beta_m}$.\n",
    "The estimated intercept is $\\widehat{\\mu_{\\varepsilon}}$ and the variance of residual ($Y_{t+1} - \\widehat{\\mu_{\\varepsilon}} - \\widehat{\\beta_m} \\log(M_t)$) is $\\widehat{\\sigma_{\\varepsilon}}^2$.\n",
    "- $(r)$: I obtain $\\widehat{r}$ as an average of $\\frac{\\text{interest income}}{S_t}$.\n",
    "- $(\\mu_Z, \\sigma_Z)$: I obtain $Z_t$ as $W_t - Y_t - (\\text{interest income})_t$ and the mean and variance of $\\log(Z_t)$ are $\\widehat{\\mu_Z}$ and $\\widehat{\\sigma_Z}^2$, respectively.\n",
    "\n",
    "I use the indirect inference to estimate the rest of the parameters, $\\theta_1$.\n",
    "Estimation involves the following steps:\n",
    "\n",
    "1. Given a set of parameters ($\\theta_1, \\widehat{\\theta_2}$), solve the dynamic programming model and obtain policy functions.\n",
    "2. Simulate the data and obtain simulated moments ($m(\\theta_1, \\widehat{\\theta_2})$).\n",
    "3. Obtain the distance between simulated moments, $m(\\theta_1, \\widehat{\\theta_2})$, and data moments ($m$): $D(\\theta_1, \\widehat{\\theta_2}) = (m(\\theta_1, \\widehat{\\theta_2}) - m)' (m(\\theta_1, \\widehat{\\theta_2}) - m)$.\n",
    "4. Estimate $\\theta_1$ as the solution of $D(\\theta_1, \\widehat{\\theta_2}) = 0$.\n",
    "\n",
    "As moment conditions, I use the followings:\n",
    "\n",
    "- $E[E[C | W] - C] = 0$,\n",
    "- $E[E[S | W] - S] = 0$.\n",
    "\n",
    "The degree of risk aversion, $\\rho$, is identified through how the household considers the trade-off between safe investment ($S$) and risky investment ($M$), given their respective returns.\n",
    "The discount factor, $\\beta$, is identified through how the household considers the trade-off between today's consumption ($C$) and future returns ($M$ and $S$).\n",
    "Since there are two parameters and two moments, the parameters are just-identified.\n",
    "\n",
    "For inference, the standard errors of $\\theta_2$ are obtained with an ordinary method (eg. standard errors in regressions).\n",
    "The standard errors of $\\theta_1$, on the other hand, need to account for estimated parameters, $\\widehat{\\theta_2}$, in the estimation process.\n",
    "Hence, I use bootstrap method to obtain the standard errors of $\\theta_1$.\n",
    "One alternative is to estimate all parameters at once by using all moment conditions.\n",
    "While this yields more efficient estimates and the complication of two-step estimators can be ignored, this is more computationally intensive due to more parameters to estimate in one step."
   ]
  },
  {
   "cell_type": "markdown",
   "metadata": {},
   "source": [
    "### More detailed procedure in step 1"
   ]
  },
  {
   "cell_type": "markdown",
   "metadata": {},
   "source": [
    "#### 1. Solve Bellman equation by policy function iteration"
   ]
  },
  {
   "cell_type": "markdown",
   "metadata": {},
   "source": [
    "Notice that the Bellman equation can be expressed as an equation with one state variable and two control variables:"
   ]
  },
  {
   "cell_type": "markdown",
   "metadata": {},
   "source": [
    "\\begin{equation*}\n",
    "V(W) = \\max_{C > 0, S \\ge 0} \\frac{C^{1 - \\rho}}{1 - \\rho} + \\beta E[V((W - C - S)^{\\beta_m} \\varepsilon' + Z' + (1 + r) S)].\n",
    "\\end{equation*}"
   ]
  },
  {
   "cell_type": "markdown",
   "metadata": {},
   "source": [
    "The expectation is taken over two random shocks: productivity shock $\\varepsilon'$, and random income shock $Z'$."
   ]
  },
  {
   "cell_type": "markdown",
   "metadata": {},
   "source": [
    "I approximate the value function $V(\\cdot)$ by the collocation method (Miranda and Fackler (2002), for example).\n",
    "That is, I approximate $V(W) \\approx \\sum_{j = 1}^n c_j \\phi_j(W)$.\n",
    "Using this approximation, the Bellman equation above is expressed as"
   ]
  },
  {
   "cell_type": "markdown",
   "metadata": {},
   "source": [
    "\\begin{equation*}\n",
    "\\sum_{j = 1}^n c_j \\phi_j(W) = \\max_{C > 0, S \\ge 0} \\frac{C^{1 - \\rho}}{1 - \\rho} + \\beta E \\left[ \\sum_{j = 1}^n c_j \\phi_j((W - C - S)^{\\beta_m} \\varepsilon' + Z' + (1 + r) S) \\right].\n",
    "\\end{equation*}"
   ]
  },
  {
   "cell_type": "markdown",
   "metadata": {},
   "source": [
    "I also approximate the expectation using the Gaussian quadrature method:"
   ]
  },
  {
   "cell_type": "markdown",
   "metadata": {},
   "source": [
    "\\begin{equation*}\n",
    "\\sum_{j = 1}^n c_j \\phi_j(W) = \\max_{C > 0, S \\ge 0} \\frac{C^{1 - \\rho}}{1 - \\rho} + \\beta \\sum_{k = 1}^K w_k \\left[ \\sum_{j = 1}^n c_j \\phi_j((W - C - S)^{\\beta_m} \\varepsilon_k' + Z_k' + (1 + r) S) \\right],\n",
    "\\end{equation*}\n",
    "where $w_k$ is a Gaussian quadrature weight."
   ]
  },
  {
   "cell_type": "markdown",
   "metadata": {},
   "source": [
    "Given this approximation, I solve the Bellman equation with the policy function iteration method:\n",
    "\n",
    "1. Set the initial guess of consumption and saving at each collocation node, $(C_s, S_s)$, where $s$ is a collocation node.\n",
    "2. At each collocation node, obtain \n",
    "\\begin{equation*}\n",
    "v_s = \\frac{C_s^{1 - \\rho}}{1 - \\rho} + \\beta \\sum_{k = 1}^K w_k \\left[ \\sum_{j = 1}^n c_j \\phi_j((W_s - C_s - S_s)^{\\beta_m} \\varepsilon_k' + Z_k' + (1 + r) S_s) \\right].\n",
    "\\end{equation*}\n",
    "3. Update the collocation coefficients $c_j$ by solving $\\sum_{j = 1}^n c_j \\phi_j (W_s) = v_s$ for all collocation nodes $s$.\n",
    "4. With an updated $c_j$, calculate\n",
    "\\begin{equation*}\n",
    "\\frac{C_s^{1 - \\rho}}{1 - \\rho} + \\beta \\sum_{k = 1}^K w_k \\left[ \\sum_{j = 1}^n c_j \\phi_j((W_s - C_s - S_s)^{\\beta_m} \\varepsilon_k' + Z_k' + (1 + r) S_s) \\right].\n",
    "\\end{equation*}\n",
    "and find $C_s$ and $S_s$ that maximize this.\n",
    "5. Iterate steps 2-4 until $(C_s, S_s)$ are converged."
   ]
  },
  {
   "cell_type": "markdown",
   "metadata": {},
   "source": [
    "Given obtained $(C_s, S_s)$, we approximate the policy functions:\n",
    "\\begin{align*}\n",
    "C(W) &\\approx \\sum_{j = 1}^n c_j^c \\phi(W) \\\\\n",
    "S(W) &\\approx \\sum_{j = 1}^n c_j^s \\phi(W).\n",
    "\\end{align*}\n",
    "These are used to construct moment conditions."
   ]
  },
  {
   "cell_type": "markdown",
   "metadata": {},
   "source": [
    "## Codes"
   ]
  },
  {
   "cell_type": "markdown",
   "metadata": {},
   "source": [
    "Now the codes to estimate parameters and conduct a Monte Carlo(-like) simulation are shown.\n",
    "First, I import packages:"
   ]
  },
  {
   "cell_type": "code",
   "execution_count": 33,
   "metadata": {},
   "outputs": [],
   "source": [
    "# using Pkg;\n",
    "# Pkg.add(\"PyPlot\");\n",
    "# Pkg.add(\"Distributions\");\n",
    "# Pkg.add(\"QuantEcon\");\n",
    "# Pkg.add(\"LaTeXStrings\");\n",
    "# Pkg.add(\"Optim\");\n",
    "# Pkg.add(\"ReadStat\");\n",
    "# Pkg.add(\"LinearAlgebra\");\n",
    "# Pkg.add(\"Interpolations\");\n",
    "# Pkg.add(\"FileIO\");\n",
    "# Pkg.add(\"StatFiles\");\n",
    "# Pkg.add(\"DataFrames\");\n",
    "# Pkg.add(\"CSV\");\n",
    "# Pkg.add(\"NamedArrays\");\n",
    "# Pkg.add(\"SharedArrrays\");\n",
    "# Pkg.add(\"DelimitedFiles\");\n",
    "# Pkg.add(\"Random\");\n",
    "# Pkg.add(\"CompEcon\");\n",
    "# Pkg.add(\"MultivariateStats\");\n",
    "\n",
    "using PyPlot\n",
    "using Distributions\n",
    "using QuantEcon\n",
    "using LaTeXStrings\n",
    "using Optim\n",
    "using Optim: optimize\n",
    "using ReadStat\n",
    "using Interpolations\n",
    "using FileIO, StatFiles, DataFrames\n",
    "using CSV\n",
    "using LinearAlgebra\n",
    "using NamedArrays\n",
    "using SharedArrays\n",
    "using DelimitedFiles\n",
    "using Random\n",
    "using CompEcon\n",
    "using MultivariateStats\n",
    "using JuMP\n",
    "using Ipopt"
   ]
  },
  {
   "cell_type": "markdown",
   "metadata": {},
   "source": [
    "### Functions to obtain policy functions"
   ]
  },
  {
   "cell_type": "markdown",
   "metadata": {},
   "source": [
    "Here, I define functions to obtain policy functions.\n",
    "These functions are used both for generating data and for estimating parameters.\n",
    "\n",
    "First, I define a function to calculate \n",
    "\\begin{equation*}\n",
    "v_s = \\frac{C_s^{1 - \\rho}}{1 - \\rho} + \\beta \\sum_{k = 1}^K w_k \\left[ \\sum_{j = 1}^n c_j \\phi_j((W_s - C_s - S_s)^{\\beta_m} \\varepsilon_k' + Z_k' + (1 + r) S_s) \\right]\n",
    "\\end{equation*}\n",
    "at each collocation node, given $(C_s, S_s)$:\n"
   ]
  },
  {
   "cell_type": "code",
   "execution_count": 34,
   "metadata": {},
   "outputs": [
    {
     "data": {
      "text/plain": [
       "calculate_vs (generic function with 1 method)"
      ]
     },
     "execution_count": 34,
     "metadata": {},
     "output_type": "execute_result"
    }
   ],
   "source": [
    "# Define a function to calculate the value function given (consumption, saving).\n",
    "function calculate_vs(C, S, W, c, basis, epsilon, Z, w, rho, beta, beta_m, r)\n",
    "    return C ^ (1 - rho) / (1 - rho) + beta * dot(funeval(c, basis, [(W - C - S) ^ beta_m * epsilon + Z .+ (1 + r) * S])[1], w)\n",
    "end"
   ]
  },
  {
   "cell_type": "markdown",
   "metadata": {},
   "source": [
    "I then define a function to update the collocation coefficients, $c$:"
   ]
  },
  {
   "cell_type": "code",
   "execution_count": 35,
   "metadata": {},
   "outputs": [
    {
     "data": {
      "text/plain": [
       "update_c (generic function with 1 method)"
      ]
     },
     "execution_count": 35,
     "metadata": {},
     "output_type": "execute_result"
    }
   ],
   "source": [
    "# Define a function to calculate the new collocation coefficients given v_s.\n",
    "function update_c(W, vs, basis)\n",
    "    return c = funfitxy(basis, W, vs)[1]\n",
    "end"
   ]
  },
  {
   "cell_type": "markdown",
   "metadata": {},
   "source": [
    "Then, I define a function to get $(C_s, S_s)$ that maximizes\n",
    "\\begin{equation*}\n",
    "\\frac{C_s^{1 - \\rho}}{1 - \\rho} + \\beta \\sum_{k = 1}^K w_k \\left[ \\sum_{j = 1}^n c_j \\phi_j((W_s - C_s - S_s)^{\\beta_m} \\varepsilon_k' + Z_k' + (1 + r) S_s) \\right].\n",
    "\\end{equation*}\n"
   ]
  },
  {
   "cell_type": "code",
   "execution_count": 36,
   "metadata": {},
   "outputs": [
    {
     "data": {
      "text/plain": [
       "jump_func (generic function with 1 method)"
      ]
     },
     "execution_count": 36,
     "metadata": {},
     "output_type": "execute_result"
    }
   ],
   "source": [
    "function jump_func(W::AbstractFloat,\n",
    "        c::AbstractArray{Float64,1},\n",
    "        basis::Dict,\n",
    "        epsilon::AbstractVector{Float64},\n",
    "        Z::AbstractVector{Float64},\n",
    "        w::AbstractVector{Float64},\n",
    "        rho::AbstractFloat,\n",
    "        beta::AbstractFloat,\n",
    "        beta_m::AbstractFloat,\n",
    "        r::AbstractFloat)\n",
    "\n",
    "    m = Model(with_optimizer(Ipopt.Optimizer, print_level=0))\n",
    "    @variable(m, C >= 0.01)\n",
    "    @variable(m, S >= 0.01)\n",
    "    function calculate_vs_inner(C, S)\n",
    "        return calculate_vs(C, S, W, c, basis, epsilon, Z, w, rho, beta, beta_m, r)\n",
    "    end\n",
    "    JuMP.register(m, :calculate_vs_inner, 2, calculate_vs_inner, autodiff = true)\n",
    "    @NLobjective(m, Max, calculate_vs_inner(C, S))\n",
    "    @NLconstraint(m, W - C - S >= 0.01)\n",
    "    JuMP.optimize!(m)\n",
    "    return JuMP.value(C), JuMP.value(S), objective_value(m)\n",
    "end"
   ]
  },
  {
   "cell_type": "code",
   "execution_count": 37,
   "metadata": {},
   "outputs": [
    {
     "data": {
      "text/plain": [
       "get_optimal_C_S (generic function with 1 method)"
      ]
     },
     "execution_count": 37,
     "metadata": {},
     "output_type": "execute_result"
    }
   ],
   "source": [
    "# Define a function to calculate the value function given (consumption, saving).\n",
    "function get_optimal_C_S(W, c, basis, epsilon, Z, w, rho, beta, beta_m, r, di_v)\n",
    "    # set output vectors\n",
    "    vs_new = zeros(di_v);\n",
    "    C_new = zeros(di_v);\n",
    "    S_new = zeros(di_v);       \n",
    "\n",
    "    # for each collocation node, solve the optimization problem\n",
    "    for s in 1:di_v\n",
    "        C_new[s], S_new[s], vs_new[s] = jump_func(W[s], c, basis, epsilon, Z, w, rho, beta, beta_m, r);\n",
    "    end\n",
    "    return C_new, S_new, vs_new \n",
    "end"
   ]
  },
  {
   "cell_type": "markdown",
   "metadata": {},
   "source": [
    "Finally, I define a function to obtain policy functions given parameters.\n",
    "Here, I set the following values for the collocation method and the Gaussian quadrature approximation:\n",
    "\n",
    "- I approximate the value function with cubic splines with 50 nodes (`di_v`), with an interval $(0.1, 20.0)$ (`W_left_end` and `W_right_end`).\n",
    "For approximations of policy functions, I use the same nodes and interval.\n",
    "- I approximate the expectation using the Gaussian quadrature approximation, with 8 nodes for $\\varepsilon$ (`di_epsilon`) and 8 nodes for $Z$ (`di_Z`)."
   ]
  },
  {
   "cell_type": "code",
   "execution_count": 50,
   "metadata": {},
   "outputs": [
    {
     "data": {
      "text/plain": [
       "policy_function_itartion (generic function with 12 methods)"
      ]
     },
     "execution_count": 50,
     "metadata": {},
     "output_type": "execute_result"
    }
   ],
   "source": [
    "function policy_function_iteration(rho,\n",
    "                                beta,\n",
    "                                beta_m::Float64,\n",
    "                                mu_epsilon::Float64,\n",
    "                                sigma_epsilon::Float64,\n",
    "                                mu_Z::Float64,\n",
    "                                sigma_Z::Float64,\n",
    "                                r::Float64,\n",
    "                                W_left_end::Float64=0.1,\n",
    "                                W_right_end::Float64=20.0,\n",
    "                                di_v::Integer=50,\n",
    "                                di_epsilon::Integer=8,\n",
    "                                di_Z::Integer=8\n",
    "                                )\n",
    "    \n",
    "    # Collocation coefficients and basis functions for value functions\n",
    "    basis = fundefn(:spli, di_v, W_left_end, W_right_end);\n",
    "    # Initial guess of value function = log(W)\n",
    "    W = funnode(basis)[1];\n",
    "    y = log.(W);\n",
    "    c = funfitxy(basis, W, y)[1];\n",
    "    # Initial guesses of C and S = 1/3 W\n",
    "    C = 1/3 * W;\n",
    "    S = 1/3 * W;\n",
    "    # Gaussian quadrature nodes and weights for epsilon and Z\n",
    "    a, w = qnwlogn([di_epsilon, di_Z], [mu_epsilon, mu_Z], [sigma_epsilon^2 0.0; 0.0 sigma_Z^2]);\n",
    "    epsilon, Z = a[:,1], a[:,2];\n",
    "\n",
    "    # Calculate the value function given initial guess of (consumption, saving).\n",
    "    start = time()\n",
    "    future_v = zeros(length(C))\n",
    "    for k in 1:length(epsilon)\n",
    "        future_v = future_v .+ beta * funeval(c, basis, [max.(W - C - S, 0.01) .^ beta_m * epsilon[k] .+ Z[k] + (1 + r) * S])[1] .* w[k]\n",
    "    end\n",
    "    vs = C .^ (1 - rho) / (1 - rho) .+ future_v[:,1]\n",
    "    elapsed = time() - start\n",
    "#     print(\"Time elapsed for value function calculation: $elapsed \\n\")\n",
    "    \n",
    "    # Policy function iteration\n",
    "    start_policy = time();\n",
    "    error = 1e10;\n",
    "    i = 1;\n",
    "    tol = 1e-5;\n",
    "    max_iter = 100;\n",
    "\n",
    "    while (error > tol) && (i < max_iter)\n",
    "        # update collocation coefficients\n",
    "        c = update_c(W, vs, basis);\n",
    "        # obtain optimal actions given the updated collocation coefficients\n",
    "        start_time = time();\n",
    "        C_new, S_new, vs_new = get_optimal_C_S(W, c, basis, epsilon, Z, w, rho, beta, beta_m, r, di_v);\n",
    "        elapsed = time() - start_time;\n",
    "#         print(\"Time elapsed for iteration $i: $elapsed \\n\")\n",
    "        error = max(maximum(abs, C_new - C), maximum(abs, S_new - S))\n",
    "        i += 1;\n",
    "        C = C_new;\n",
    "        S = S_new;\n",
    "        vs = vs_new;\n",
    "        #print(DataFrame(C = C, S = S, M = W - C - S, vs = vs, W = W))\n",
    "        #print(\"iteration = $i, error = $error \\n\")\n",
    "    end\n",
    "    elapsed_policy = time() - start_policy\n",
    "#     print(\"Time elapsed for policy function iteration: $elapsed_policy \\n\")\n",
    "    return C, S, vs, W\n",
    "end\n"
   ]
  },
  {
   "cell_type": "markdown",
   "metadata": {},
   "source": [
    "## Data simulation"
   ]
  },
  {
   "cell_type": "markdown",
   "metadata": {},
   "source": [
    "Here, I generate a dataset to be used for estimation.\n",
    "For this, I randomly generate the wealth of the first period, and obtain\n",
    "\n",
    "- consumption in the first period;\n",
    "- saving in the first period;\n",
    "- business revenue in the second period;\n",
    "- gross interest income in the second period;\n",
    "- wealth in the second period.\n",
    "\n",
    "In reality, the dataset can contain more information (eg. business revenue and interest income in the first period) and more times periods, but the additional information is not needed for estimation.\n",
    "The (true) parameters are set as followings:\n",
    "\n",
    "- $\\rho = 1.75$;\n",
    "- $\\beta = 0.9$;\n",
    "- $\\beta_m = 0.8$;\n",
    "- $\\mu_{\\varepsilon} = 0.50$;\n",
    "- $\\sigma_{\\varepsilon} = 0.05$;\n",
    "- $\\mu_Z = 0.02$;\n",
    "- $\\sigma_Z = 0.01$;\n",
    "- $r = 0.01$.\n",
    "\n",
    "The number of households is set to be 1000."
   ]
  },
  {
   "cell_type": "code",
   "execution_count": 52,
   "metadata": {},
   "outputs": [
    {
     "name": "stdout",
     "output_type": "stream",
     "text": [
      " 18.737549 seconds (5.48 M allocations: 2.077 GiB, 2.60% gc time)\n"
     ]
    }
   ],
   "source": [
    "# Generate a two-period dataset =================\n",
    "\n",
    "# The number of household\n",
    "nHH = 1000;\n",
    "\n",
    "# Parameter values\n",
    "rho = 1.75;\n",
    "beta = 0.9;\n",
    "beta_m = 0.8;\n",
    "mu_epsilon = 0.50;\n",
    "sigma_epsilon = 0.05;\n",
    "mu_Z = 0.02;\n",
    "sigma_Z = 0.01;\n",
    "r = 0.01;\n",
    "\n",
    "# Optimal actions at each colloation node\n",
    "@time C_opt, S_opt, vs_opt, W_grid = policy_function_iteration(rho, beta, beta_m, mu_epsilon, sigma_epsilon, mu_Z, sigma_Z, r);\n",
    "\n",
    "# Obtain collocation coefficients for policy functions\n",
    "W_left_end = 0.1;\n",
    "W_right_end = 20.0;\n",
    "di_v = 50;\n",
    "basis = fundefn(:spli, di_v, W_left_end, W_right_end);\n",
    "W = funnode(basis)[1];\n",
    "c = funfitxy(basis, W, vs_opt)[1];\n",
    "c_C = funfitxy(basis, W, C_opt)[1];\n",
    "c_S = funfitxy(basis, W, S_opt)[1];\n"
   ]
  },
  {
   "cell_type": "code",
   "execution_count": 53,
   "metadata": {},
   "outputs": [],
   "source": [
    "# Randomly generate wealth in the first period (uniformly distributed between 0.1 and 18)\n",
    "Random.seed!(1234);\n",
    "W_first = rand(nHH) .* (18.0 - 0.1) .+ 0.1;\n",
    "\n",
    "# Randomly generate productivity shock (epsilon) and income shock (Z)\n",
    "epsilon_second = exp.(mu_epsilon .+ sigma_epsilon .* randn(nHH));\n",
    "Z_second = exp.(mu_Z .+ sigma_Z .* randn(nHH));\n",
    "\n",
    "# Obtain first-period consumption, saving, and business input\n",
    "C_first = funeval(c_C, basis, W_first)[1][:,1];\n",
    "S_first = funeval(c_S, basis, W_first)[1][:,1];\n",
    "M_first = max.(W_first - C_first - S_first, 0.01);\n",
    "\n",
    "# Calculate second-period business revenue\n",
    "Y_second = (M_first .^ beta_m) .* epsilon_second;\n",
    "\n",
    "# Calculate second-period interest income\n",
    "int_inc_second = (1 + r) .* (W_first .- C_first .- M_first);\n",
    "\n",
    "# Calculate second-period wealth\n",
    "W_second = Y_second .+ Z_second .+ int_inc_second;\n",
    "\n",
    "# Construct a dataset\n",
    "\n",
    "sim_data = DataFrame(W_first = W_first,\n",
    "                    C_first = C_first,\n",
    "                    M_first = M_first,\n",
    "                    Y_second = Y_second,\n",
    "                    int_inc_second = int_inc_second,\n",
    "                    W_second = W_second);\n",
    "\n",
    "# I add a small noise to variables in the dataset (othewise, r would be exactly estimated.)\n",
    "#sim_data = sim_data .* (rand(nrow(sim_data), ncol(sim_data)) * ((1.0 + 1e-7) - (1 - 1e-7)) .+ (1 - 1e-7))\n"
   ]
  },
  {
   "cell_type": "markdown",
   "metadata": {},
   "source": [
    "## Estimation"
   ]
  },
  {
   "cell_type": "markdown",
   "metadata": {},
   "source": [
    "Here, I define functions to estimate parameters.\n",
    "First, I define a function to estimate $\\theta_2$."
   ]
  },
  {
   "cell_type": "code",
   "execution_count": 54,
   "metadata": {},
   "outputs": [
    {
     "data": {
      "text/plain": [
       "estimate_theta2 (generic function with 1 method)"
      ]
     },
     "execution_count": 54,
     "metadata": {},
     "output_type": "execute_result"
    }
   ],
   "source": [
    "# Define a function to estimate theta_2\n",
    "\n",
    "function estimate_theta2(data)\n",
    "    \n",
    "    # estimation of beta_m, mu_epsilon, and sigma_epsilon\n",
    "    reg_Y_M_coef = llsq(hcat(convert(Array, log.(data[:,:M_first]))),log.(data[:,:Y_second]));\n",
    "    beta_m_hat, mu_epsilon_hat = reg_Y_M_coef;\n",
    "    sigma_epsilon_hat = std(log.(data[:,:Y_second]) .- log.(data[:,:M_first]) * beta_m_hat .- mu_epsilon_hat);\n",
    "    \n",
    "    # estimation of r\n",
    "    r_hat = mean(data[:,:int_inc_second] ./ (data[:,:W_first] - data[:,:M_first] - data[:,:C_first])) - 1.0;\n",
    "\n",
    "    # estimation of mu_Z and sigma_Z\n",
    "    Z_first_est = data[:,:W_second] - data[:,:Y_second] - data[:,:int_inc_second];\n",
    "    mu_Z_hat = mean(log.(Z_first_est));\n",
    "    sigma_Z_hat = std(log.(Z_first_est));\n",
    "    \n",
    "    return [beta_m_hat, mu_epsilon_hat, sigma_epsilon_hat, mu_Z_hat, sigma_Z_hat, r_hat]\n",
    "end"
   ]
  },
  {
   "cell_type": "markdown",
   "metadata": {},
   "source": [
    "Next, I define a function to calculate the distance $D(\\theta_1, \\theta_2)$."
   ]
  },
  {
   "cell_type": "code",
   "execution_count": 55,
   "metadata": {},
   "outputs": [
    {
     "data": {
      "text/plain": [
       "calculate_distance (generic function with 4 methods)"
      ]
     },
     "execution_count": 55,
     "metadata": {},
     "output_type": "execute_result"
    }
   ],
   "source": [
    "# Define a function to estimate the distance between model-predicted moments and data moments\n",
    "\n",
    "function calculate_distance(theta_1, theta_2, data,\n",
    "                            W_left_end::Float64=0.1,\n",
    "                            W_right_end::Float64=20.0,\n",
    "                            di_v::Integer=50)\n",
    "    \n",
    "    print([theta_1; theta_2], '\\n')\n",
    "    # expand theta_1 and theta_2\n",
    "    \n",
    "    rho = theta_1[1];\n",
    "    beta = theta_1[2];\n",
    "    \n",
    "    beta_m = theta_2[1];\n",
    "    mu_epsilon = theta_2[2];\n",
    "    sigma_epsilon = theta_2[3];\n",
    "    mu_Z = theta_2[4];\n",
    "    sigma_Z = theta_2[5];\n",
    "    r = theta_2[6];\n",
    "   \n",
    "    # Optimal actions at each colloation node\n",
    "    C_opt, S_opt, vs_opt, W_grid = policy_function_iteration(rho, beta, beta_m, mu_epsilon, sigma_epsilon, mu_Z, sigma_Z, r);\n",
    "\n",
    "    # Obtain collocation coefficients for policy functions\n",
    "    basis = fundefn(:spli, di_v, W_left_end, W_right_end);\n",
    "    W = funnode(basis)[1];\n",
    "    c_C = funfitxy(basis, W, C_opt)[1];\n",
    "    c_S = funfitxy(basis, W, S_opt)[1];\n",
    "\n",
    "    C_first_model = funeval(c_C, basis, data[:,:W_first])[1];\n",
    "    S_first_model = funeval(c_S, basis, data[:,:W_first])[1]; \n",
    "    \n",
    "    # construct distance\n",
    "    \n",
    "    distance = dot(C_first_model - sim_data[:,:C_first], C_first_model - sim_data[:,:C_first]) + \n",
    "                dot(S_first_model - (sim_data[:,:W_first] .- sim_data[:,:C_first] .- sim_data[:,:M_first]), S_first_model - (sim_data[:,:W_first] .- sim_data[:,:C_first] .- sim_data[:,:M_first]));\n",
    "    print(distance, '\\n')\n",
    "    return distance\n",
    "end"
   ]
  },
  {
   "cell_type": "markdown",
   "metadata": {},
   "source": [
    "Next, I define a function to estimate $\\theta_1$ given $\\theta_2$."
   ]
  },
  {
   "cell_type": "code",
   "execution_count": 59,
   "metadata": {},
   "outputs": [
    {
     "data": {
      "text/plain": [
       "estimate_theta1 (generic function with 2 methods)"
      ]
     },
     "execution_count": 59,
     "metadata": {},
     "output_type": "execute_result"
    }
   ],
   "source": [
    "# Define a function to estimate theta_1 given theta_2\n",
    "\n",
    "function estimate_theta1(data, theta_2, theta_1_init)\n",
    "    # find theta_1 that minimizes distance\n",
    "    optim_output = optimize(x -> calculate_distance([x[1], x[2]], theta_2, data), theta_1_init);\n",
    "    return optim_output.minimizer   \n",
    "end\n",
    "    "
   ]
  },
  {
   "cell_type": "code",
   "execution_count": 56,
   "metadata": {},
   "outputs": [
    {
     "data": {
      "text/plain": [
       "estimate_theta1 (generic function with 1 method)"
      ]
     },
     "execution_count": 56,
     "metadata": {},
     "output_type": "execute_result"
    }
   ],
   "source": [
    "# # Define a function to estimate theta_1 given theta_2\n",
    "\n",
    "# function estimate_theta1(data::DataFrame, \n",
    "#                         theta_2::AbstractVector{Float64})\n",
    "    \n",
    "#     m = Model(with_optimizer(Ipopt.Optimizer, print_level=0))\n",
    "#     @variable(m, rho >= 1.01)\n",
    "#     @variable(m, beta <= 0.99)\n",
    "#     function calculate_distance_inner(rho, beta)\n",
    "#         return calculate_distance([rho, beta], theta_2, data)\n",
    "#     end\n",
    "#     JuMP.register(m, :calculate_distance_inner, 2, calculate_distance_inner, autodiff = true)\n",
    "#     @NLobjective(m, Min, calculate_distance_inner(rho, beta))\n",
    "#     JuMP.optimize!(m)\n",
    "#     print(objective_value(m), '\\n')\n",
    "#     return [JuMP.value(rho), JuMP.value(beta)]\n",
    "# end\n"
   ]
  },
  {
   "cell_type": "markdown",
   "metadata": {},
   "source": [
    "Finally, I define a function to estimate all parameters given data and an initial guess for $\\theta_1$."
   ]
  },
  {
   "cell_type": "code",
   "execution_count": 60,
   "metadata": {},
   "outputs": [
    {
     "data": {
      "text/plain": [
       "estimation_all (generic function with 1 method)"
      ]
     },
     "execution_count": 60,
     "metadata": {},
     "output_type": "execute_result"
    }
   ],
   "source": [
    "# Define a function to estimate all parameters given data and an initial guessfor theta_1\n",
    "\n",
    "function estimation_all(data, theta_1_init)\n",
    "    # estimate theta_2\n",
    "    theta_2_hat = estimate_theta2(data);\n",
    "    \n",
    "    # estimate theta_1\n",
    "    theta_1_hat = estimate_theta1(data, theta_2_hat, theta_1_init)\n",
    "#     theta_1_hat = estimate_theta1(data, theta_2_hat)\n",
    "    \n",
    "    return [theta_1_hat; collect(theta_2_hat)]\n",
    "end\n",
    "    "
   ]
  },
  {
   "cell_type": "code",
   "execution_count": 61,
   "metadata": {},
   "outputs": [
    {
     "name": "stdout",
     "output_type": "stream",
     "text": [
      "[1.575, 0.81, 0.799491, 0.501809, 0.050417, 0.0198648, 0.01021, 0.01]\n",
      "2188.088856945582\n",
      "[1.575, 0.81, 0.799491, 0.501809, 0.050417, 0.0198648, 0.01021, 0.01]\n",
      "2188.088856945582\n",
      "[2.3875, 0.81, 0.799491, 0.501809, 0.050417, 0.0198648, 0.01021, 0.01]\n",
      "2919.3989322891925\n",
      "[1.575, 1.24, 0.799491, 0.501809, 0.050417, 0.0198648, 0.01021, 0.01]\n",
      "14396.511956419425\n",
      "[2.3875, 0.38, 0.799491, 0.501809, 0.050417, 0.0198648, 0.01021, 0.01]\n",
      "11684.714911509382\n",
      "[2.18437, 0.595, 0.799491, 0.501809, 0.050417, 0.0198648, 0.01021, 0.01]\n",
      "7672.2681495557\n",
      "[1.77813, 1.025, 0.799491, 0.501809, 0.050417, 0.0198648, 0.01021, 0.01]\n",
      "15442.136583815056\n",
      "[2.08281, 0.7025, 0.799491, 0.501809, 0.050417, 0.0198648, 0.01021, 0.01]\n",
      "5202.032074583339\n",
      "[1.87969, 0.9175, 0.799491, 0.501809, 0.050417, 0.0198648, 0.01021, 0.01]\n",
      "311.9612205679106\n",
      "[1.77813, 1.025, 0.799491, 0.501809, 0.050417, 0.0198648, 0.01021, 0.01]\n",
      "17484.30196292618\n",
      "[1.06719, 0.9175, 0.799491, 0.501809, 0.050417, 0.0198648, 0.01021, 0.01]\n",
      "226.70725569010403\n",
      "[0.407031, 0.97125, 0.799491, 0.501809, 0.050417, 0.0198648, 0.01021, 0.01]\n",
      "147.7515406635521\n",
      "[0.711719, 1.07875, 0.799491, 0.501809, 0.050417, 0.0198648, 0.01021, 0.01]\n",
      "15447.88221872153\n",
      "[1.35918, 0.877188, 0.799491, 0.501809, 0.050417, 0.0198648, 0.01021, 0.01]\n",
      "609.6756110673017\n",
      "[0.927539, 1.01156, 0.799491, 0.501809, 0.050417, 0.0198648, 0.01021, 0.01]\n",
      "15239.840737018345\n",
      "[1.25127, 0.910781, 0.799491, 0.501809, 0.050417, 0.0198648, 0.01021, 0.01]\n",
      "162.6868816997005\n",
      "[-0.221387, 0.964531, 0.799491, 0.501809, 0.050417, 0.0198648, 0.01021, 0.01]\n",
      "15447.800672858972\n",
      "[1.35442, 0.929258, 0.799491, 0.501809, 0.050417, 0.0198648, 0.01021, 0.01]\n",
      "72.87360792431238\n",
      "[0.510181, 0.989727, 0.799491, 0.501809, 0.050417, 0.0198648, 0.01021, 0.01]\n",
      "1934.8268342330857\n",
      "[1.066, 0.930518, 0.799491, 0.501809, 0.050417, 0.0198648, 0.01021, 0.01]\n",
      "99.56070565176644\n",
      "[2.01339, 0.888525, 0.799491, 0.501809, 0.050417, 0.0198648, 0.01021, 0.01]\n",
      "628.12439187075\n",
      "[0.80862, 0.950569, 0.799491, 0.501809, 0.050417, 0.0198648, 0.01021, 0.01]\n",
      "89.25761575541773\n",
      "[1.09704, 0.949309, 0.799491, 0.501809, 0.050417, 0.0198648, 0.01021, 0.01]\n",
      "119.57834510444128\n",
      "[1.07376, 0.935215, 0.799491, 0.501809, 0.050417, 0.0198648, 0.01021, 0.01]\n",
      "79.94641433372783\n",
      "[1.61956, 0.913904, 0.799491, 0.501809, 0.050417, 0.0198648, 0.01021, 0.01]\n",
      "52.53858611097125\n",
      "[2.02503, 0.895572, 0.799491, 0.501809, 0.050417, 0.0198648, 0.01021, 0.01]\n",
      "458.46643696407335\n",
      "[1.90022, 0.907947, 0.799491, 0.501809, 0.050417, 0.0198648, 0.01021, 0.01]\n",
      "442.96189916910487\n",
      "[1.28037, 0.928398, 0.799491, 0.501809, 0.050417, 0.0198648, 0.01021, 0.01]\n",
      "70.88961471630017\n",
      "[1.54551, 0.913045, 0.799491, 0.501809, 0.050417, 0.0198648, 0.01021, 0.01]\n",
      "60.39855580053517\n",
      "[1.8847, 0.898551, 0.799491, 0.501809, 0.050417, 0.0198648, 0.01021, 0.01]\n",
      "25.199586202059034\n",
      "[2.18686, 0.883627, 0.799491, 0.501809, 0.050417, 0.0198648, 0.01021, 0.01]\n",
      "2085.1440873983483\n",
      "[1.95874, 0.899411, 0.799491, 0.501809, 0.050417, 0.0198648, 0.01021, 0.01]\n",
      "130.0723445212613\n",
      "[1.64882, 0.909636, 0.799491, 0.501809, 0.050417, 0.0198648, 0.01021, 0.01]\n",
      "25.976960949894355\n",
      "[1.91396, 0.894283, 0.799491, 0.501809, 0.050417, 0.0198648, 0.01021, 0.01]\n",
      "19.10941469088238\n",
      "[2.06116, 0.884472, 0.799491, 0.501809, 0.050417, 0.0198648, 0.01021, 0.01]\n",
      "1031.329450996905\n",
      "[2.14983, 0.883198, 0.799491, 0.501809, 0.050417, 0.0198648, 0.01021, 0.01]\n",
      "1677.5913819905757\n",
      "[1.77407, 0.903027, 0.799491, 0.501809, 0.050417, 0.0198648, 0.01021, 0.01]\n",
      "7.285908042428135\n",
      "[1.80334, 0.898759, 0.799491, 0.501809, 0.050417, 0.0198648, 0.01021, 0.01]\n",
      "6.917147757901278\n",
      "[1.76265, 0.898862, 0.799491, 0.501809, 0.050417, 0.0198648, 0.01021, 0.01]\n",
      "0.7893329766292838\n",
      "[1.62277, 0.907606, 0.799491, 0.501809, 0.050417, 0.0198648, 0.01021, 0.01]\n",
      "50.18468123269456\n",
      "[1.84116, 0.897614, 0.799491, 0.501809, 0.050417, 0.0198648, 0.01021, 0.01]\n",
      "14.598328879143066\n",
      "[1.69557, 0.904275, 0.799491, 0.501809, 0.050417, 0.0198648, 0.01021, 0.01]\n",
      "10.101722146454842\n",
      "[1.73197, 0.90261, 0.799491, 0.501809, 0.050417, 0.0198648, 0.01021, 0.01]\n",
      "0.22290560678866\n",
      "[1.72055, 0.898445, 0.799491, 0.501809, 0.050417, 0.0198648, 0.01021, 0.01]\n",
      "28.127561729722817\n",
      "[1.76069, 0.901881, 0.799491, 0.501809, 0.050417, 0.0198648, 0.01021, 0.01]\n",
      "5.129996965705806\n",
      "[1.73393, 0.899591, 0.799491, 0.501809, 0.050417, 0.0198648, 0.01021, 0.01]\n",
      "0.8936702984840214\n",
      "[1.74062, 0.900163, 0.799491, 0.501809, 0.050417, 0.0198648, 0.01021, 0.01]\n",
      "0.28987620831175276\n",
      "[1.70993, 0.903911, 0.799491, 0.501809, 0.050417, 0.0198648, 0.01021, 0.01]\n",
      "10.010677030699956\n",
      "[1.74947, 0.900124, 0.799491, 0.501809, 0.050417, 0.0198648, 0.01021, 0.01]\n",
      "0.1259374333924013\n",
      "[1.74082, 0.902571, 0.799491, 0.501809, 0.050417, 0.0198648, 0.01021, 0.01]\n",
      "0.3161017286514176\n",
      "[1.74067, 0.900765, 0.799491, 0.501809, 0.050417, 0.0198648, 0.01021, 0.01]\n",
      "0.11060894509508806\n",
      "[1.75818, 0.89828, 0.799491, 0.501809, 0.050417, 0.0198648, 0.01021, 0.01]\n",
      "0.9394376698454066\n",
      "[1.73852, 0.901527, 0.799491, 0.501809, 0.050417, 0.0198648, 0.01021, 0.01]\n",
      "0.07025282397249633\n",
      "[1.72971, 0.902168, 0.799491, 0.501809, 0.050417, 0.0198648, 0.01021, 0.01]\n",
      "0.13306144042567541\n",
      "[1.74453, 0.900635, 0.799491, 0.501809, 0.050417, 0.0198648, 0.01021, 0.01]\n",
      "0.08830581372185049\n",
      "[1.74238, 0.901397, 0.799491, 0.501809, 0.050417, 0.0198648, 0.01021, 0.01]\n",
      "0.05713123813251268\n",
      "[1.74324, 0.901714, 0.799491, 0.501809, 0.050417, 0.0198648, 0.01021, 0.01]\n",
      "0.10206633165332464\n",
      "[1.73637, 0.902289, 0.799491, 0.501809, 0.050417, 0.0198648, 0.01021, 0.01]\n",
      "0.17282585314917306\n",
      "[1.74249, 0.901049, 0.799491, 0.501809, 0.050417, 0.0198648, 0.01021, 0.01]\n",
      "0.06273283268843974\n",
      "[1.74636, 0.900919, 0.799491, 0.501809, 0.050417, 0.0198648, 0.01021, 0.01]\n",
      "0.04433952988557769\n",
      "[1.75028, 0.900615, 0.799491, 0.501809, 0.050417, 0.0198648, 0.01021, 0.01]\n",
      "0.03794037162675459\n",
      "[1.75017, 0.900963, 0.799491, 0.501809, 0.050417, 0.0198648, 0.01021, 0.01]\n",
      "0.4542839106351161\n",
      "[1.74441, 0.901028, 0.799491, 0.501809, 0.050417, 0.0198648, 0.01021, 0.01]\n",
      "0.05130288953644167\n",
      "[1.7523, 0.900245, 0.799491, 0.501809, 0.050417, 0.0198648, 0.01021, 0.01]\n",
      "0.06401901512834747\n",
      "[1.74486, 0.901109, 0.799491, 0.501809, 0.050417, 0.0198648, 0.01021, 0.01]\n",
      "0.048148154633937415\n",
      "[1.75073, 0.900697, 0.799491, 0.501809, 0.050417, 0.0198648, 0.01021, 0.01]\n",
      "0.44808480072299833\n",
      "[1.74599, 0.900945, 0.799491, 0.501809, 0.050417, 0.0198648, 0.01021, 0.01]\n",
      "0.0454043354897316\n",
      "[1.7514, 0.90045, 0.799491, 0.501809, 0.050417, 0.0198648, 0.01021, 0.01]\n",
      "0.04462371354535431\n",
      "[1.75569, 0.90012, 0.799491, 0.501809, 0.050417, 0.0198648, 0.01021, 0.01]\n",
      "0.4657166874938484\n",
      "[1.74841, 0.900739, 0.799491, 0.501809, 0.050417, 0.0198648, 0.01021, 0.01]\n",
      "0.04124063328388992\n",
      "[1.74729, 0.900903, 0.799491, 0.501809, 0.050417, 0.0198648, 0.01021, 0.01]\n",
      "0.040278395036714626\n",
      "[1.74915, 0.900779, 0.799491, 0.501809, 0.050417, 0.0198648, 0.01021, 0.01]\n",
      "0.03548991708006635\n",
      "[1.74952, 0.9008, 0.799491, 0.501809, 0.050417, 0.0198648, 0.01021, 0.01]\n",
      "0.03343176651517487\n",
      "[1.7525, 0.900511, 0.799491, 0.501809, 0.050417, 0.0198648, 0.01021, 0.01]\n",
      "0.4484497771088794\n",
      "[1.74859, 0.900805, 0.799491, 0.501809, 0.050417, 0.0198648, 0.01021, 0.01]\n",
      "0.03718631767899366\n",
      "[1.74783, 0.90099, 0.799491, 0.501809, 0.050417, 0.0198648, 0.01021, 0.01]\n",
      "0.03807473466182267\n",
      "[1.74966, 0.900709, 0.799491, 0.501809, 0.050417, 0.0198648, 0.01021, 0.01]\n",
      "0.03585471920389354\n",
      "[1.75059, 0.900703, 0.799491, 0.501809, 0.050417, 0.0198648, 0.01021, 0.01]\n",
      "0.031745789085962726\n",
      "[1.75159, 0.900652, 0.799491, 0.501809, 0.050417, 0.0198648, 0.01021, 0.01]\n",
      "0.4465866471466608\n",
      "[1.75044, 0.900794, 0.799491, 0.501809, 0.050417, 0.0198648, 0.01021, 0.01]\n",
      "0.4482571555450216\n",
      "[1.74986, 0.90073, 0.799491, 0.501809, 0.050417, 0.0198648, 0.01021, 0.01]\n",
      "0.03399991506094611\n",
      "[1.75025, 0.900773, 0.799491, 0.501809, 0.050417, 0.0198648, 0.01021, 0.01]\n",
      "0.03130803718909402\n",
      "[1.75044, 0.900794, 0.799491, 0.501809, 0.050417, 0.0198648, 0.01021, 0.01]\n",
      "0.44825715553012524\n",
      "[1.75132, 0.900676, 0.799491, 0.501809, 0.050417, 0.0198648, 0.01021, 0.01]\n",
      "0.446860202450208\n",
      "[1.74997, 0.900769, 0.799491, 0.501809, 0.050417, 0.0198648, 0.01021, 0.01]\n",
      "0.032390107889894465\n",
      "[1.75087, 0.900707, 0.799491, 0.501809, 0.050417, 0.0198648, 0.01021, 0.01]\n",
      "0.4475517539114059\n",
      "[1.75019, 0.900753, 0.799491, 0.501809, 0.050417, 0.0198648, 0.01021, 0.01]\n",
      "0.03189076450669771\n",
      "[1.75064, 0.900722, 0.799491, 0.501809, 0.050417, 0.0198648, 0.01021, 0.01]\n",
      "0.4479256442844602\n",
      "[1.7503, 0.900746, 0.799491, 0.501809, 0.050417, 0.0198648, 0.01021, 0.01]\n",
      "0.031647393252867015\n",
      "[1.74996, 0.900815, 0.799491, 0.501809, 0.050417, 0.0198648, 0.01021, 0.01]\n",
      "0.03171613385667162\n",
      "[1.75012, 0.900787, 0.799491, 0.501809, 0.050417, 0.0198648, 0.01021, 0.01]\n",
      "0.03151606955846311\n",
      "[1.75006, 0.900814, 0.799491, 0.501809, 0.050417, 0.0198648, 0.01021, 0.01]\n",
      "0.031433911870624144\n",
      "[1.75019, 0.9008, 0.799491, 0.501809, 0.050417, 0.0198648, 0.01021, 0.01]\n",
      "0.031159954960469007\n",
      "[1.75022, 0.900806, 0.799491, 0.501809, 0.050417, 0.0198648, 0.01021, 0.01]\n",
      "0.4486941788995866\n",
      "[1.75037, 0.900758, 0.799491, 0.501809, 0.050417, 0.0198648, 0.01021, 0.01]\n",
      "0.03112296859692272\n",
      "[1.75053, 0.90073, 0.799491, 0.501809, 0.050417, 0.0198648, 0.01021, 0.01]\n",
      "0.0311744602233554\n",
      "[1.75031, 0.900785, 0.799491, 0.501809, 0.050417, 0.0198648, 0.01021, 0.01]\n",
      "0.44839940010389945\n",
      "[1.75026, 0.900776, 0.799491, 0.501809, 0.050417, 0.0198648, 0.01021, 0.01]\n",
      "0.031200352941006915\n",
      "[1.7503, 0.900782, 0.799491, 0.501809, 0.050417, 0.0198648, 0.01021, 0.01]\n",
      "0.031001306629618666\n",
      "[1.75031, 0.900785, 0.799491, 0.501809, 0.050417, 0.0198648, 0.01021, 0.01]\n",
      "0.4483994000003525\n",
      "[1.75048, 0.900741, 0.799491, 0.501809, 0.050417, 0.0198648, 0.01021, 0.01]\n",
      "0.031095887100767817\n",
      "[1.75041, 0.900765, 0.799491, 0.501809, 0.050417, 0.0198648, 0.01021, 0.01]\n",
      "0.4481932723797429\n",
      "[1.75038, 0.90076, 0.799491, 0.501809, 0.050417, 0.0198648, 0.01021, 0.01]\n",
      "0.0310636476609897\n",
      "[1.7502, 0.900801, 0.799491, 0.501809, 0.050417, 0.0198648, 0.01021, 0.01]\n",
      "0.031121683569108993\n",
      "[1.75041, 0.900756, 0.799491, 0.501809, 0.050417, 0.0198648, 0.01021, 0.01]\n",
      "0.03103482025493321\n",
      "[1.75033, 0.900778, 0.799491, 0.501809, 0.050417, 0.0198648, 0.01021, 0.01]\n",
      "0.030957465831236812\n",
      "[1.7503, 0.900787, 0.799491, 0.501809, 0.050417, 0.0198648, 0.01021, 0.01]\n",
      "0.4484341343987018\n",
      "[1.75021, 0.900805, 0.799491, 0.501809, 0.050417, 0.0198648, 0.01021, 0.01]\n",
      "0.031049293346063378\n",
      "[1.75036, 0.900768, 0.799491, 0.501809, 0.050417, 0.0198648, 0.01021, 0.01]\n",
      "0.030992112847843218\n",
      "[1.75039, 0.900764, 0.799491, 0.501809, 0.050417, 0.0198648, 0.01021, 0.01]\n",
      "0.030957577757305475\n",
      "[1.75036, 0.900774, 0.799491, 0.501809, 0.050417, 0.0198648, 0.01021, 0.01]\n",
      "0.030923467754134758\n",
      "[1.75035, 0.900777, 0.799491, 0.501809, 0.050417, 0.0198648, 0.01021, 0.01]\n",
      "0.44830237849693433\n",
      "[1.75029, 0.900788, 0.799491, 0.501809, 0.050417, 0.0198648, 0.01021, 0.01]\n",
      "0.030952364076407324\n",
      "[1.75032, 0.900784, 0.799491, 0.501809, 0.050417, 0.0198648, 0.01021, 0.01]\n",
      "0.448382244429463\n",
      "[1.75033, 0.90078, 0.799491, 0.501809, 0.050417, 0.0198648, 0.01021, 0.01]\n",
      "0.03094150784480761\n",
      "[1.75039, 0.900766, 0.799491, 0.501809, 0.050417, 0.0198648, 0.01021, 0.01]\n",
      "0.0309365422949424\n",
      "[1.75042, 0.90076, 0.799491, 0.501809, 0.050417, 0.0198648, 0.01021, 0.01]\n",
      "0.03093487518737409\n",
      "[1.75039, 0.900769, 0.799491, 0.501809, 0.050417, 0.0198648, 0.01021, 0.01]\n",
      "0.448230216381972\n",
      "[1.75039, 0.900766, 0.799491, 0.501809, 0.050417, 0.0198648, 0.01021, 0.01]\n",
      "0.030930204524893506\n",
      "[1.75033, 0.900781, 0.799491, 0.501809, 0.050417, 0.0198648, 0.01021, 0.01]\n",
      "0.030937342085545487\n",
      "[1.7504, 0.900765, 0.799491, 0.501809, 0.050417, 0.0198648, 0.01021, 0.01]\n",
      "0.0309240302553044\n",
      "[1.75036, 0.900773, 0.799491, 0.501809, 0.050417, 0.0198648, 0.01021, 0.01]\n",
      "0.0309201328764014\n",
      "[1.75035, 0.900776, 0.799491, 0.501809, 0.050417, 0.0198648, 0.01021, 0.01]\n",
      "0.44830547497193823\n",
      "[1.75032, 0.900782, 0.799491, 0.501809, 0.050417, 0.0198648, 0.01021, 0.01]\n",
      "0.030929195809011174\n",
      "[1.75038, 0.900769, 0.799491, 0.501809, 0.050417, 0.0198648, 0.01021, 0.01]\n",
      "0.030921513551948325\n",
      "[1.75039, 0.900768, 0.799491, 0.501809, 0.050417, 0.0198648, 0.01021, 0.01]\n",
      "0.03091934968311068\n",
      "[1.7504, 0.900765, 0.799491, 0.501809, 0.050417, 0.0198648, 0.01021, 0.01]\n",
      "0.030919350709949688\n",
      "[1.75037, 0.900772, 0.799491, 0.501809, 0.050417, 0.0198648, 0.01021, 0.01]\n",
      "0.4482616120343129\n",
      "[1.75038, 0.90077, 0.799491, 0.501809, 0.050417, 0.0198648, 0.01021, 0.01]\n",
      "0.030921431487006823\n",
      "[1.75037, 0.900771, 0.799491, 0.501809, 0.050417, 0.0198648, 0.01021, 0.01]\n",
      "0.030915781749882413\n",
      "[1.75037, 0.900772, 0.799491, 0.501809, 0.050417, 0.0198648, 0.01021, 0.01]\n",
      "0.4482616120343129\n",
      "[1.7504, 0.900766, 0.799491, 0.501809, 0.050417, 0.0198648, 0.01021, 0.01]\n",
      "0.030918303315774345\n",
      "[1.75038, 0.900769, 0.799491, 0.501809, 0.050417, 0.0198648, 0.01021, 0.01]\n",
      "0.4482395027163593\n",
      "[1.75039, 0.900768, 0.799491, 0.501809, 0.050417, 0.0198648, 0.01021, 0.01]\n",
      "0.030917493884034794\n",
      "[1.75036, 0.900773, 0.799491, 0.501809, 0.050417, 0.0198648, 0.01021, 0.01]\n",
      "0.030918687811242483\n",
      "[1.75039, 0.900768, 0.799491, 0.501809, 0.050417, 0.0198648, 0.01021, 0.01]\n",
      "0.030916303631820075\n",
      "[1.75038, 0.900771, 0.799491, 0.501809, 0.050417, 0.0198648, 0.01021, 0.01]\n",
      "0.4482536266562845\n",
      "[1.75038, 0.900769, 0.799491, 0.501809, 0.050417, 0.0198648, 0.01021, 0.01]\n",
      "0.030916588709561255\n",
      "[1.75038, 0.90077, 0.799491, 0.501809, 0.050417, 0.0198648, 0.01021, 0.01]\n",
      "0.44824894784751435\n",
      "[1.75038, 0.900769, 0.799491, 0.501809, 0.050417, 0.0198648, 0.01021, 0.01]\n",
      "0.030916163822989274\n",
      "[1.75037, 0.900772, 0.799491, 0.501809, 0.050417, 0.0198648, 0.01021, 0.01]\n",
      "0.030916438783507992\n",
      "[1.75038, 0.900769, 0.799491, 0.501809, 0.050417, 0.0198648, 0.01021, 0.01]\n",
      "0.030915953348533188\n",
      "[1.75037, 0.900771, 0.799491, 0.501809, 0.050417, 0.0198648, 0.01021, 0.01]\n",
      "0.4482561918267897\n",
      "[1.75038, 0.90077, 0.799491, 0.501809, 0.050417, 0.0198648, 0.01021, 0.01]\n",
      "0.030915926512505142\n",
      "[1.75037, 0.900772, 0.799491, 0.501809, 0.050417, 0.0198648, 0.01021, 0.01]\n",
      "0.030915995975707412\n",
      "[1.75038, 0.90077, 0.799491, 0.501809, 0.050417, 0.0198648, 0.01021, 0.01]\n",
      "0.030915815204566103\n",
      "[1.75037, 0.900771, 0.799491, 0.501809, 0.050417, 0.0198648, 0.01021, 0.01]\n",
      "0.030915688590792\n",
      "[1.75037, 0.900772, 0.799491, 0.501809, 0.050417, 0.0198648, 0.01021, 0.01]\n",
      "0.44826528725069476\n",
      "[1.75037, 0.900773, 0.799491, 0.501809, 0.050417, 0.0198648, 0.01021, 0.01]\n",
      "0.44827118711539965\n",
      "[1.75038, 0.900771, 0.799491, 0.501809, 0.050417, 0.0198648, 0.01021, 0.01]\n",
      "0.03091576026932539\n",
      "[1.75038, 0.900771, 0.799491, 0.501809, 0.050417, 0.0198648, 0.01021, 0.01]\n",
      "0.030915660194517303\n",
      "[1.75038, 0.90077, 0.799491, 0.501809, 0.050417, 0.0198648, 0.01021, 0.01]\n",
      "0.030915560604329147\n",
      "[1.75037, 0.900771, 0.799491, 0.501809, 0.050417, 0.0198648, 0.01021, 0.01]\n",
      "0.44825612652763513\n",
      "[1.75038, 0.900771, 0.799491, 0.501809, 0.050417, 0.0198648, 0.01021, 0.01]\n",
      "0.03091569526992687\n",
      "[1.75037, 0.900771, 0.799491, 0.501809, 0.050417, 0.0198648, 0.01021, 0.01]\n",
      "0.4482550345695555\n",
      "[1.75038, 0.900771, 0.799491, 0.501809, 0.050417, 0.0198648, 0.01021, 0.01]\n",
      "0.030915663243870753\n",
      "[1.75038, 0.90077, 0.799491, 0.501809, 0.050417, 0.0198648, 0.01021, 0.01]\n",
      "0.030915639951241282\n",
      "[1.75038, 0.900769, 0.799491, 0.501809, 0.050417, 0.0198648, 0.01021, 0.01]\n",
      "0.030915687422900524\n",
      "[1.75038, 0.90077, 0.799491, 0.501809, 0.050417, 0.0198648, 0.01021, 0.01]\n",
      "0.030915583894913442\n",
      "[1.75037, 0.900771, 0.799491, 0.501809, 0.050417, 0.0198648, 0.01021, 0.01]\n",
      "0.03091563647037447\n",
      "[1.75038, 0.900771, 0.799491, 0.501809, 0.050417, 0.0198648, 0.01021, 0.01]\n",
      "0.03091562845452584\n",
      "[1.75038, 0.90077, 0.799491, 0.501809, 0.050417, 0.0198648, 0.01021, 0.01]\n",
      "0.030915593607000916\n",
      "[1.75038, 0.90077, 0.799491, 0.501809, 0.050417, 0.0198648, 0.01021, 0.01]\n",
      "0.030915580124049297\n",
      "[1.75038, 0.90077, 0.799491, 0.501809, 0.050417, 0.0198648, 0.01021, 0.01]\n",
      "0.03091555918350207\n",
      "[1.75038, 0.90077, 0.799491, 0.501809, 0.050417, 0.0198648, 0.01021, 0.01]\n",
      "0.030915551460474366\n",
      "[1.75038, 0.90077, 0.799491, 0.501809, 0.050417, 0.0198648, 0.01021, 0.01]\n",
      "0.030915526550869956\n",
      "[1.75038, 0.90077, 0.799491, 0.501809, 0.050417, 0.0198648, 0.01021, 0.01]\n",
      "0.030915497710659205\n",
      "[1.75038, 0.90077, 0.799491, 0.501809, 0.050417, 0.0198648, 0.01021, 0.01]\n",
      "0.030915513073322125\n",
      "[1.75038, 0.90077, 0.799491, 0.501809, 0.050417, 0.0198648, 0.01021, 0.01]\n",
      "0.4482451543578094\n",
      "[1.75038, 0.90077, 0.799491, 0.501809, 0.050417, 0.0198648, 0.01021, 0.01]\n",
      "0.030915526575872425\n",
      "[1.75038, 0.90077, 0.799491, 0.501809, 0.050417, 0.0198648, 0.01021, 0.01]\n",
      "0.030915478662179623\n",
      "[1.75038, 0.90077, 0.799491, 0.501809, 0.050417, 0.0198648, 0.01021, 0.01]\n",
      "0.4482451543578094\n",
      "[1.75038, 0.90077, 0.799491, 0.501809, 0.050417, 0.0198648, 0.01021, 0.01]\n",
      "0.030915474785861097\n",
      "[1.75038, 0.90077, 0.799491, 0.501809, 0.050417, 0.0198648, 0.01021, 0.01]\n",
      "0.44825037498269715\n",
      "[1.75038, 0.90077, 0.799491, 0.501809, 0.050417, 0.0198648, 0.01021, 0.01]\n",
      "0.448246576707076\n",
      "[1.75038, 0.90077, 0.799491, 0.501809, 0.050417, 0.0198648, 0.01021, 0.01]\n",
      "0.030915485103430507\n",
      "[1.75038, 0.90077, 0.799491, 0.501809, 0.050417, 0.0198648, 0.01021, 0.01]\n",
      "0.030915471718108965\n",
      "5744.470252 seconds (2.31 G allocations: 1011.462 GiB, 3.98% gc time)\n"
     ]
    }
   ],
   "source": [
    "@time theta_hat = estimation_all(sim_data, [1.75, 0.9] * 0.9)\n",
    "writedlm( \"temp/theta_hat.csv\",  theta_hat, ',')"
   ]
  },
  {
   "cell_type": "code",
   "execution_count": 68,
   "metadata": {},
   "outputs": [
    {
     "data": {
      "text/plain": [
       "8-element Array{Float64,1}:\n",
       " 1.75\n",
       " 0.9 \n",
       " 0.8 \n",
       " 0.5 \n",
       " 0.05\n",
       " 0.02\n",
       " 0.01\n",
       " 0.01"
      ]
     },
     "execution_count": 68,
     "metadata": {},
     "output_type": "execute_result"
    }
   ],
   "source": [
    "[rho, beta, beta_m, mu_epsilon, sigma_epsilon, mu_Z, sigma_Z, r]"
   ]
  },
  {
   "cell_type": "code",
   "execution_count": 70,
   "metadata": {},
   "outputs": [
    {
     "data": {
      "text/html": [
       "<table class=\"data-frame\"><thead><tr><th></th><th>Name</th><th>True</th><th>Estimates</th></tr><tr><th></th><th>String</th><th>Float64</th><th>Float64</th></tr></thead><tbody><p>8 rows × 3 columns</p><tr><th>1</th><td>rho</td><td>1.75</td><td>1.75038</td></tr><tr><th>2</th><td>beta</td><td>0.9</td><td>0.90077</td></tr><tr><th>3</th><td>beta_m</td><td>0.8</td><td>0.799491</td></tr><tr><th>4</th><td>mu_epsilon</td><td>0.5</td><td>0.501809</td></tr><tr><th>5</th><td>sigma_epsilon</td><td>0.05</td><td>0.050417</td></tr><tr><th>6</th><td>mu_Z</td><td>0.02</td><td>0.0198648</td></tr><tr><th>7</th><td>sigma_Z</td><td>0.01</td><td>0.01021</td></tr><tr><th>8</th><td>r</td><td>0.01</td><td>0.01</td></tr></tbody></table>"
      ],
      "text/latex": [
       "\\begin{tabular}{r|ccc}\n",
       "\t& Name & True & Estimates\\\\\n",
       "\t\\hline\n",
       "\t& String & Float64 & Float64\\\\\n",
       "\t\\hline\n",
       "\t1 & rho & 1.75 & 1.75038 \\\\\n",
       "\t2 & beta & 0.9 & 0.90077 \\\\\n",
       "\t3 & beta\\_m & 0.8 & 0.799491 \\\\\n",
       "\t4 & mu\\_epsilon & 0.5 & 0.501809 \\\\\n",
       "\t5 & sigma\\_epsilon & 0.05 & 0.050417 \\\\\n",
       "\t6 & mu\\_Z & 0.02 & 0.0198648 \\\\\n",
       "\t7 & sigma\\_Z & 0.01 & 0.01021 \\\\\n",
       "\t8 & r & 0.01 & 0.01 \\\\\n",
       "\\end{tabular}\n"
      ],
      "text/plain": [
       "8×3 DataFrame\n",
       "│ Row │ Name          │ True    │ Estimates │\n",
       "│     │ \u001b[90mString\u001b[39m        │ \u001b[90mFloat64\u001b[39m │ \u001b[90mFloat64\u001b[39m   │\n",
       "├─────┼───────────────┼─────────┼───────────┤\n",
       "│ 1   │ rho           │ 1.75    │ 1.75038   │\n",
       "│ 2   │ beta          │ 0.9     │ 0.90077   │\n",
       "│ 3   │ beta_m        │ 0.8     │ 0.799491  │\n",
       "│ 4   │ mu_epsilon    │ 0.5     │ 0.501809  │\n",
       "│ 5   │ sigma_epsilon │ 0.05    │ 0.050417  │\n",
       "│ 6   │ mu_Z          │ 0.02    │ 0.0198648 │\n",
       "│ 7   │ sigma_Z       │ 0.01    │ 0.01021   │\n",
       "│ 8   │ r             │ 0.01    │ 0.01      │"
      ]
     },
     "execution_count": 70,
     "metadata": {},
     "output_type": "execute_result"
    }
   ],
   "source": [
    "parameter_table = DataFrame(Name = [\"rho\", \"beta\", \"beta_m\", \"mu_epsilon\", \"sigma_epsilon\", \"mu_Z\", \"sigma_Z\", \"r\"],\n",
    "                            True = [rho, beta, beta_m, mu_epsilon, sigma_epsilon, mu_Z, sigma_Z, r],\n",
    "                            Estimates = theta_hat[:,1])"
   ]
  },
  {
   "cell_type": "markdown",
   "metadata": {},
   "source": [
    "## Counterfactual simulation"
   ]
  },
  {
   "cell_type": "markdown",
   "metadata": {},
   "source": [
    "Here, I conduct a counterfactual simulation.\n",
    "Specifically, I analyze the effect of cash transfer on consumption, business inputs, interest income, business revenue, and the second-period wealth.\n",
    "Cash transfer increases wealth in the first period, which affects various economic activities of business owners.\n",
    "In this experiment, I increase wealth by 1.\n",
    "\n",
    "For simulation, I need to generate random variables (productivity shocks and income shocks).\n",
    "I generate these random variables 10 times and take averages of the resulting variables as values under a counterfactual simulation."
   ]
  },
  {
   "cell_type": "code",
   "execution_count": 71,
   "metadata": {},
   "outputs": [],
   "source": [
    "theta_hat = readdlm(\"temp/theta_hat.csv\");"
   ]
  },
  {
   "cell_type": "code",
   "execution_count": 72,
   "metadata": {},
   "outputs": [],
   "source": [
    "rho = theta_hat[1];\n",
    "beta = theta_hat[2];    \n",
    "beta_m = theta_hat[3];\n",
    "mu_epsilon = theta_hat[4];\n",
    "sigma_epsilon = theta_hat[5];\n",
    "mu_Z = theta_hat[6];\n",
    "sigma_Z = theta_hat[7];\n",
    "r = theta_hat[8];\n",
    "\n",
    "# Optimal actions at each colloation node\n",
    "C_opt, S_opt, vs_opt, W_grid = policy_function_itartion(rho, beta, beta_m, mu_epsilon, sigma_epsilon, mu_Z, sigma_Z, r);\n",
    "\n",
    "# Obtain collocation coefficients for policy functions\n",
    "W_left_end = 0.1;\n",
    "W_right_end = 20.0;\n",
    "di_v = 50;\n",
    "basis = fundefn(:spli, di_v, W_left_end, W_right_end);\n",
    "W = funnode(basis)[1];\n",
    "c = funfitxy(basis, W, vs_opt)[1];\n",
    "c_C = funfitxy(basis, W, C_opt)[1];\n",
    "c_S = funfitxy(basis, W, S_opt)[1];"
   ]
  },
  {
   "cell_type": "code",
   "execution_count": 73,
   "metadata": {},
   "outputs": [
    {
     "data": {
      "text/plain": [
       "0.11289268035460083"
      ]
     },
     "execution_count": 73,
     "metadata": {},
     "output_type": "execute_result"
    }
   ],
   "source": [
    "minimum(W_first)\n"
   ]
  },
  {
   "cell_type": "code",
   "execution_count": 78,
   "metadata": {},
   "outputs": [],
   "source": [
    "W_first_cf = W_first .+ 1;\n",
    "\n",
    "num_sim = 10;\n",
    "\n",
    "# Randomly generate productivity shock (epsilon) and income shock (Z) 10 times\n",
    "epsilon_second = exp.(mu_epsilon .+ sigma_epsilon .* randn(nHH, num_sim));\n",
    "Z_second = exp.(mu_Z .+ sigma_Z .* randn(nHH, num_sim));\n",
    "\n",
    "# Obtain first-period consumption, saving, and business input\n",
    "C_first_cf = funeval(c_C, basis, W_first_cf)[1][:,1];\n",
    "S_first_cf = funeval(c_S, basis, W_first_cf)[1][:,1];\n",
    "M_first_cf = max.(W_first_cf - C_first_cf - S_first_cf, 0.01);\n",
    "\n",
    "# Calculate second-period business revenue\n",
    "Y_second_cf = (M_first_cf .^ beta_m) .* epsilon_second;\n",
    "\n",
    "# Calculate second-period interest income\n",
    "int_inc_second_cf = (1 + r) .* (W_first_cf .- C_first_cf .- M_first_cf);\n",
    "\n",
    "# Calculate second-period wealth\n",
    "W_second_cf = Y_second_cf .+ Z_second .+ int_inc_second_cf;\n"
   ]
  },
  {
   "cell_type": "code",
   "execution_count": 79,
   "metadata": {},
   "outputs": [
    {
     "data": {
      "text/plain": [
       "(2.967558925649922, 3.0738618509983042, 4.014317256436098, 3.9916950913566907, 9.02623129722367)"
      ]
     },
     "execution_count": 79,
     "metadata": {},
     "output_type": "execute_result"
    }
   ],
   "source": [
    "mean(C_first_cf), mean(M_first_cf), mean(Y_second_cf), mean(int_inc_second_cf), mean(W_second_cf)"
   ]
  },
  {
   "cell_type": "code",
   "execution_count": 80,
   "metadata": {},
   "outputs": [
    {
     "data": {
      "text/plain": [
       "(2.76364148944142, 2.856510112451665, 3.741619074124894, 3.407176957859385, 8.168912557496355)"
      ]
     },
     "execution_count": 80,
     "metadata": {},
     "output_type": "execute_result"
    }
   ],
   "source": [
    "mean(C_first), mean(M_first), mean(Y_second), mean(int_inc_second), mean(W_second)"
   ]
  },
  {
   "cell_type": "code",
   "execution_count": 81,
   "metadata": {},
   "outputs": [
    {
     "data": {
      "text/html": [
       "<table class=\"data-frame\"><thead><tr><th></th><th>Name</th><th>Data</th><th>Simulation</th><th>ATE</th></tr><tr><th></th><th>String</th><th>Float64</th><th>Float64</th><th>Float64</th></tr></thead><tbody><p>5 rows × 4 columns</p><tr><th>1</th><td>C_first</td><td>2.76364</td><td>2.96756</td><td>0.203917</td></tr><tr><th>2</th><td>M_first</td><td>2.85651</td><td>3.07386</td><td>0.217352</td></tr><tr><th>3</th><td>Y_second</td><td>3.74162</td><td>4.01432</td><td>0.272698</td></tr><tr><th>4</th><td>int_inc_second</td><td>3.40718</td><td>3.9917</td><td>0.584518</td></tr><tr><th>5</th><td>W_second</td><td>8.16891</td><td>9.02623</td><td>0.857319</td></tr></tbody></table>"
      ],
      "text/latex": [
       "\\begin{tabular}{r|cccc}\n",
       "\t& Name & Data & Simulation & ATE\\\\\n",
       "\t\\hline\n",
       "\t& String & Float64 & Float64 & Float64\\\\\n",
       "\t\\hline\n",
       "\t1 & C\\_first & 2.76364 & 2.96756 & 0.203917 \\\\\n",
       "\t2 & M\\_first & 2.85651 & 3.07386 & 0.217352 \\\\\n",
       "\t3 & Y\\_second & 3.74162 & 4.01432 & 0.272698 \\\\\n",
       "\t4 & int\\_inc\\_second & 3.40718 & 3.9917 & 0.584518 \\\\\n",
       "\t5 & W\\_second & 8.16891 & 9.02623 & 0.857319 \\\\\n",
       "\\end{tabular}\n"
      ],
      "text/plain": [
       "5×4 DataFrame\n",
       "│ Row │ Name           │ Data    │ Simulation │ ATE      │\n",
       "│     │ \u001b[90mString\u001b[39m         │ \u001b[90mFloat64\u001b[39m │ \u001b[90mFloat64\u001b[39m    │ \u001b[90mFloat64\u001b[39m  │\n",
       "├─────┼────────────────┼─────────┼────────────┼──────────┤\n",
       "│ 1   │ C_first        │ 2.76364 │ 2.96756    │ 0.203917 │\n",
       "│ 2   │ M_first        │ 2.85651 │ 3.07386    │ 0.217352 │\n",
       "│ 3   │ Y_second       │ 3.74162 │ 4.01432    │ 0.272698 │\n",
       "│ 4   │ int_inc_second │ 3.40718 │ 3.9917     │ 0.584518 │\n",
       "│ 5   │ W_second       │ 8.16891 │ 9.02623    │ 0.857319 │"
      ]
     },
     "execution_count": 81,
     "metadata": {},
     "output_type": "execute_result"
    }
   ],
   "source": [
    "df = DataFrame(Name = [\"C_first\", \"M_first\", \"Y_second\", \"int_inc_second\", \"W_second\"],\n",
    "            Data = [mean(C_first), mean(M_first), mean(Y_second), mean(int_inc_second), mean(W_second)],\n",
    "            Simulation = [mean(C_first_cf), mean(M_first_cf), mean(Y_second_cf), mean(int_inc_second_cf), mean(W_second_cf)])\n",
    "df.ATE = df[:,:Simulation] - df[:,:Data];\n",
    "df"
   ]
  },
  {
   "cell_type": "code",
   "execution_count": null,
   "metadata": {},
   "outputs": [],
   "source": []
  }
 ],
 "metadata": {
  "kernelspec": {
   "display_name": "Julia 1.6.2",
   "language": "julia",
   "name": "julia-1.6"
  },
  "language_info": {
   "file_extension": ".jl",
   "mimetype": "application/julia",
   "name": "julia",
   "version": "1.6.2"
  },
  "toc": {
   "base_numbering": 1,
   "nav_menu": {},
   "number_sections": false,
   "sideBar": true,
   "skip_h1_title": false,
   "title_cell": "Table of Contents",
   "title_sidebar": "Contents",
   "toc_cell": false,
   "toc_position": {},
   "toc_section_display": true,
   "toc_window_display": false
  }
 },
 "nbformat": 4,
 "nbformat_minor": 4
}
